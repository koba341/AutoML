{
  "nbformat": 4,
  "nbformat_minor": 0,
  "metadata": {
    "colab": {
      "name": "AutoML_RandomForest.ipynb",
      "provenance": [],
      "mount_file_id": "1obYjLsFNglfZrMxIKsj6S_7xrr89AedV",
      "authorship_tag": "ABX9TyOg6WSuVOpKr8cU+itjjjHB",
      "include_colab_link": true
    },
    "kernelspec": {
      "name": "python3",
      "display_name": "Python 3"
    },
    "language_info": {
      "name": "python"
    }
  },
  "cells": [
    {
      "cell_type": "markdown",
      "metadata": {
        "id": "view-in-github",
        "colab_type": "text"
      },
      "source": [
        "<a href=\"https://colab.research.google.com/github/koba341/AutoML/blob/main/AutoML_RandomForest.ipynb\" target=\"_parent\"><img src=\"https://colab.research.google.com/assets/colab-badge.svg\" alt=\"Open In Colab\"/></a>"
      ]
    },
    {
      "cell_type": "code",
      "source": [
        "!pip install auto-sklearn"
      ],
      "metadata": {
        "id": "xo_7_Ar-xNcN"
      },
      "execution_count": null,
      "outputs": []
    },
    {
      "cell_type": "code",
      "source": [
        "# import needed packages\n",
        "import pandas as pd\n",
        "import torch\n",
        "import torch.nn as nn\n",
        "from torch.utils.data import Dataset\n",
        "from torchvision import datasets\n",
        "from torch.utils.data import DataLoader\n",
        "import sklearn.datasets\n",
        "import sklearn.metrics\n",
        "import sklearn.model_selection\n",
        "import sklearn.ensemble\n",
        "import matplotlib.pyplot as plt\n",
        "import numpy as np\n",
        "import time\n",
        "from matplotlib import pyplot as plt\n",
        "\n",
        "\n",
        "import autosklearn.regression\n",
        "\n"
      ],
      "metadata": {
        "id": "8o4dxQ6iqbRk"
      },
      "execution_count": 4,
      "outputs": []
    },
    {
      "cell_type": "code",
      "source": [
        "#import the data set\n",
        "data = pd.read_csv(\"/content/drive/MyDrive/Colab Notebooks/AutoML/slump_test.csv\")\n",
        "X = data.iloc[:, 1:10].to_numpy()\n",
        "y = data.iloc[:, 10].to_numpy()\n",
        "\n",
        "\n",
        "X_train, X_test, y_train, y_test = \\\n",
        "    sklearn.model_selection.train_test_split(X, y, train_size=0.90,random_state=1) # create training and test dataset. \n",
        "\n",
        "# print some information\n",
        "print('Size of X: ', X.shape)\n",
        "print('Size of X_train: ', X_train.shape)\n",
        "print('Size of X_test: ', X_test.shape)\n",
        "print(data.head())"
      ],
      "metadata": {
        "colab": {
          "base_uri": "https://localhost:8080/"
        },
        "id": "qeCEIXYVosGV",
        "outputId": "31744f16-879c-443d-f789-8d7360df9a72"
      },
      "execution_count": 5,
      "outputs": [
        {
          "output_type": "stream",
          "name": "stdout",
          "text": [
            "Size of X:  (103, 9)\n",
            "Size of X_train:  (92, 9)\n",
            "Size of X_test:  (11, 9)\n",
            "   No  Cement   Slag  Fly ash  Water    SP  Coarse Aggr.  Fine Aggr.  \\\n",
            "0   1   273.0   82.0    105.0  210.0   9.0         904.0       680.0   \n",
            "1   2   163.0  149.0    191.0  180.0  12.0         843.0       746.0   \n",
            "2   3   162.0  148.0    191.0  179.0  16.0         840.0       743.0   \n",
            "3   4   162.0  148.0    190.0  179.0  19.0         838.0       741.0   \n",
            "4   5   154.0  112.0    144.0  220.0  10.0         923.0       658.0   \n",
            "\n",
            "   SLUMP(cm)  FLOW(cm)  Compressive Strength (28-day)(Mpa)  \n",
            "0       23.0      62.0                               34.99  \n",
            "1        0.0      20.0                               41.14  \n",
            "2        1.0      20.0                               41.81  \n",
            "3        3.0      21.5                               42.08  \n",
            "4       20.0      64.0                               26.82  \n"
          ]
        }
      ]
    },
    {
      "cell_type": "code",
      "source": [
        "automl = autosklearn.regression.AutoSklearnRegressor(\n",
        "    time_left_for_this_task=3600,\n",
        "    include={'regressor': [\"random_forest\"]},\n",
        "    ensemble_size=0,\n",
        "    resampling_strategy='cv',\n",
        "    resampling_strategy_arguments={'folds': 10},\n",
        ")\n",
        "automl.fit(X_train, y_train, dataset_name='concrete')\n",
        "\n"
      ],
      "metadata": {
        "colab": {
          "base_uri": "https://localhost:8080/"
        },
        "id": "j57wroAixeXU",
        "outputId": "81860acf-de11-4cdf-a8de-c669c0af9eee"
      },
      "execution_count": 10,
      "outputs": [
        {
          "output_type": "stream",
          "name": "stdout",
          "text": [
            "[WARNING] [2022-06-10 08:47:10,500:Client-AutoMLSMBO(1)::concrete] Configuration 197 not found\n",
            "[WARNING] [2022-06-10 08:47:10,500:Client-AutoMLSMBO(1)::concrete] Configuration 235 not found\n",
            "[WARNING] [2022-06-10 08:47:10,500:Client-AutoMLSMBO(1)::concrete] Configuration 270 not found\n",
            "[WARNING] [2022-06-10 08:47:10,500:Client-AutoMLSMBO(1)::concrete] Configuration 163 not found\n",
            "[WARNING] [2022-06-10 08:47:10,500:Client-AutoMLSMBO(1)::concrete] Configuration 67 not found\n",
            "[WARNING] [2022-06-10 08:47:10,500:Client-AutoMLSMBO(1)::concrete] Configuration 34 not found\n",
            "[WARNING] [2022-06-10 08:47:10,501:Client-AutoMLSMBO(1)::concrete] Configuration 86 not found\n",
            "[WARNING] [2022-06-10 08:47:10,501:Client-AutoMLSMBO(1)::concrete] Configuration 240 not found\n",
            "[WARNING] [2022-06-10 08:47:10,501:Client-AutoMLSMBO(1)::concrete] Configuration 245 not found\n",
            "[WARNING] [2022-06-10 08:47:10,501:Client-AutoMLSMBO(1)::concrete] Configuration 7 not found\n",
            "[WARNING] [2022-06-10 08:47:10,501:Client-AutoMLSMBO(1)::concrete] Configuration 282 not found\n",
            "[WARNING] [2022-06-10 08:47:10,501:Client-AutoMLSMBO(1)::concrete] Configuration 98 not found\n",
            "[WARNING] [2022-06-10 08:47:10,501:Client-AutoMLSMBO(1)::concrete] Configuration 138 not found\n",
            "[WARNING] [2022-06-10 08:47:10,501:Client-AutoMLSMBO(1)::concrete] Configuration 171 not found\n",
            "[WARNING] [2022-06-10 08:47:10,501:Client-AutoMLSMBO(1)::concrete] Configuration 237 not found\n",
            "[WARNING] [2022-06-10 08:47:10,501:Client-AutoMLSMBO(1)::concrete] Configuration 262 not found\n",
            "[WARNING] [2022-06-10 08:47:10,501:Client-AutoMLSMBO(1)::concrete] Configuration 176 not found\n",
            "[WARNING] [2022-06-10 08:47:10,501:Client-AutoMLSMBO(1)::concrete] Configuration 140 not found\n",
            "[WARNING] [2022-06-10 08:47:10,501:Client-AutoMLSMBO(1)::concrete] Configuration 58 not found\n",
            "[WARNING] [2022-06-10 08:47:10,501:Client-AutoMLSMBO(1)::concrete] Configuration 23 not found\n",
            "[WARNING] [2022-06-10 08:47:10,501:Client-AutoMLSMBO(1)::concrete] Configuration 266 not found\n",
            "[WARNING] [2022-06-10 08:47:10,501:Client-AutoMLSMBO(1)::concrete] Configuration 119 not found\n",
            "[WARNING] [2022-06-10 08:47:10,501:Client-AutoMLSMBO(1)::concrete] Configuration 17 not found\n",
            "[WARNING] [2022-06-10 08:47:10,502:Client-AutoMLSMBO(1)::concrete] Configuration 43 not found\n",
            "[WARNING] [2022-06-10 08:47:10,502:Client-AutoMLSMBO(1)::concrete] Configuration 258 not found\n",
            "[WARNING] [2022-06-10 08:47:10,502:Client-AutoMLSMBO(1)::concrete] Configuration 132 not found\n",
            "[WARNING] [2022-06-10 08:47:10,502:Client-AutoMLSMBO(1)::concrete] Configuration 117 not found\n",
            "[WARNING] [2022-06-10 08:47:10,502:Client-AutoMLSMBO(1)::concrete] Configuration 232 not found\n",
            "[WARNING] [2022-06-10 08:47:10,502:Client-AutoMLSMBO(1)::concrete] Configuration 268 not found\n",
            "[WARNING] [2022-06-10 08:47:10,502:Client-AutoMLSMBO(1)::concrete] Configuration 124 not found\n",
            "[WARNING] [2022-06-10 08:47:10,502:Client-AutoMLSMBO(1)::concrete] Configuration 247 not found\n",
            "[WARNING] [2022-06-10 08:47:10,502:Client-AutoMLSMBO(1)::concrete] Configuration 158 not found\n",
            "[WARNING] [2022-06-10 08:47:10,502:Client-AutoMLSMBO(1)::concrete] Configuration 2 not found\n",
            "[WARNING] [2022-06-10 08:47:10,502:Client-AutoMLSMBO(1)::concrete] Configuration 10 not found\n",
            "[WARNING] [2022-06-10 08:47:10,502:Client-AutoMLSMBO(1)::concrete] Configuration 191 not found\n",
            "[WARNING] [2022-06-10 08:47:10,502:Client-AutoMLSMBO(1)::concrete] Configuration 92 not found\n",
            "[WARNING] [2022-06-10 08:47:10,502:Client-AutoMLSMBO(1)::concrete] Configuration 40 not found\n",
            "[WARNING] [2022-06-10 08:47:10,502:Client-AutoMLSMBO(1)::concrete] Configuration 276 not found\n",
            "[WARNING] [2022-06-10 08:47:10,502:Client-AutoMLSMBO(1)::concrete] Configuration 186 not found\n",
            "[WARNING] [2022-06-10 08:47:10,503:Client-AutoMLSMBO(1)::concrete] Configuration 19 not found\n",
            "[WARNING] [2022-06-10 08:47:10,502:Client-AutoMLSMBO(1)::concrete] Configuration 26 not found\n",
            "[WARNING] [2022-06-10 08:47:10,503:Client-AutoMLSMBO(1)::concrete] Configuration 79 not found\n",
            "[WARNING] [2022-06-10 08:47:10,503:Client-AutoMLSMBO(1)::concrete] Configuration 115 not found\n",
            "[WARNING] [2022-06-10 08:47:10,503:Client-AutoMLSMBO(1)::concrete] Configuration 184 not found\n",
            "[WARNING] [2022-06-10 08:47:10,503:Client-AutoMLSMBO(1)::concrete] Configuration 28 not found\n",
            "[WARNING] [2022-06-10 08:47:10,503:Client-AutoMLSMBO(1)::concrete] Configuration 174 not found\n",
            "[WARNING] [2022-06-10 08:47:10,503:Client-AutoMLSMBO(1)::concrete] Configuration 150 not found\n",
            "[WARNING] [2022-06-10 08:47:10,503:Client-AutoMLSMBO(1)::concrete] Configuration 73 not found\n",
            "[WARNING] [2022-06-10 08:47:10,503:Client-AutoMLSMBO(1)::concrete] Configuration 13 not found\n",
            "[WARNING] [2022-06-10 08:47:10,503:Client-AutoMLSMBO(1)::concrete] Configuration 54 not found\n",
            "[WARNING] [2022-06-10 08:47:10,503:Client-AutoMLSMBO(1)::concrete] Configuration 95 not found\n",
            "[WARNING] [2022-06-10 08:47:10,503:Client-AutoMLSMBO(1)::concrete] Configuration 279 not found\n",
            "[WARNING] [2022-06-10 08:47:10,503:Client-AutoMLSMBO(1)::concrete] Configuration 6 not found\n",
            "[WARNING] [2022-06-10 08:47:10,503:Client-AutoMLSMBO(1)::concrete] Configuration 257 not found\n",
            "[WARNING] [2022-06-10 08:47:10,511:Client-AutoMLSMBO(1)::concrete] Configuration 214 not found\n",
            "[WARNING] [2022-06-10 08:47:10,512:Client-AutoMLSMBO(1)::concrete] Configuration 126 not found\n",
            "[WARNING] [2022-06-10 08:47:10,512:Client-AutoMLSMBO(1)::concrete] Configuration 89 not found\n",
            "[WARNING] [2022-06-10 08:47:10,513:Client-AutoMLSMBO(1)::concrete] Configuration 199 not found\n",
            "[WARNING] [2022-06-10 08:47:10,513:Client-AutoMLSMBO(1)::concrete] Configuration 225 not found\n",
            "[WARNING] [2022-06-10 08:47:10,513:Client-AutoMLSMBO(1)::concrete] Configuration 107 not found\n",
            "[WARNING] [2022-06-10 08:47:10,513:Client-AutoMLSMBO(1)::concrete] Configuration 102 not found\n",
            "[WARNING] [2022-06-10 08:47:10,513:Client-AutoMLSMBO(1)::concrete] Configuration 82 not found\n",
            "[WARNING] [2022-06-10 08:47:10,513:Client-AutoMLSMBO(1)::concrete] Configuration 66 not found\n",
            "[WARNING] [2022-06-10 08:47:10,513:Client-AutoMLSMBO(1)::concrete] Configuration 156 not found\n",
            "[WARNING] [2022-06-10 08:47:10,513:Client-AutoMLSMBO(1)::concrete] Configuration 31 not found\n",
            "[WARNING] [2022-06-10 08:47:10,513:Client-AutoMLSMBO(1)::concrete] Configuration 207 not found\n",
            "[WARNING] [2022-06-10 08:47:10,513:Client-AutoMLSMBO(1)::concrete] Configuration 101 not found\n",
            "[WARNING] [2022-06-10 08:47:10,513:Client-AutoMLSMBO(1)::concrete] Configuration 63 not found\n",
            "[WARNING] [2022-06-10 08:47:10,514:Client-AutoMLSMBO(1)::concrete] Configuration 182 not found\n",
            "[WARNING] [2022-06-10 08:47:10,514:Client-AutoMLSMBO(1)::concrete] Configuration 201 not found\n",
            "[WARNING] [2022-06-10 08:47:10,514:Client-AutoMLSMBO(1)::concrete] Configuration 274 not found\n",
            "[WARNING] [2022-06-10 08:47:10,514:Client-AutoMLSMBO(1)::concrete] Configuration 160 not found\n",
            "[WARNING] [2022-06-10 08:47:10,514:Client-AutoMLSMBO(1)::concrete] Configuration 211 not found\n",
            "[WARNING] [2022-06-10 08:47:10,515:Client-AutoMLSMBO(1)::concrete] Configuration 48 not found\n",
            "[WARNING] [2022-06-10 08:47:10,515:Client-AutoMLSMBO(1)::concrete] Configuration 224 not found\n",
            "[WARNING] [2022-06-10 08:47:10,515:Client-AutoMLSMBO(1)::concrete] Configuration 285 not found\n",
            "[WARNING] [2022-06-10 08:47:10,515:Client-AutoMLSMBO(1)::concrete] Configuration 193 not found\n",
            "[WARNING] [2022-06-10 08:47:10,515:Client-AutoMLSMBO(1)::concrete] Configuration 144 not found\n",
            "[WARNING] [2022-06-10 08:47:10,515:Client-AutoMLSMBO(1)::concrete] Configuration 105 not found\n",
            "[WARNING] [2022-06-10 08:47:10,515:Client-AutoMLSMBO(1)::concrete] Configuration 252 not found\n",
            "[WARNING] [2022-06-10 08:47:10,515:Client-AutoMLSMBO(1)::concrete] Configuration 128 not found\n",
            "[WARNING] [2022-06-10 08:47:10,515:Client-AutoMLSMBO(1)::concrete] Configuration 251 not found\n",
            "[WARNING] [2022-06-10 08:47:10,516:Client-AutoMLSMBO(1)::concrete] Configuration 148 not found\n",
            "[WARNING] [2022-06-10 08:47:10,516:Client-AutoMLSMBO(1)::concrete] Configuration 136 not found\n",
            "[WARNING] [2022-06-10 08:47:10,516:Client-AutoMLSMBO(1)::concrete] Configuration 153 not found\n",
            "[WARNING] [2022-06-10 08:47:10,516:Client-AutoMLSMBO(1)::concrete] Configuration 50 not found\n",
            "[WARNING] [2022-06-10 08:47:10,516:Client-AutoMLSMBO(1)::concrete] Configuration 228 not found\n",
            "[WARNING] [2022-06-10 08:47:10,516:Client-AutoMLSMBO(1)::concrete] Configuration 179 not found\n",
            "[WARNING] [2022-06-10 08:47:10,516:Client-AutoMLSMBO(1)::concrete] Configuration 110 not found\n",
            "[WARNING] [2022-06-10 08:47:10,516:Client-AutoMLSMBO(1)::concrete] Configuration 204 not found\n",
            "[WARNING] [2022-06-10 09:46:59,433:Client-autosklearn.automl_common.common.utils.backend] Directory /tmp/auto-sklearn_tmp_e9d284dc-e899-11ec-8428-0242ac1c0002/.auto-sklearn/ensembles does not exist\n"
          ]
        },
        {
          "output_type": "execute_result",
          "data": {
            "text/plain": [
              "AutoSklearnRegressor(ensemble_size=0, include={'regressor': ['random_forest']},\n",
              "                     per_run_time_limit=360, resampling_strategy='cv',\n",
              "                     resampling_strategy_arguments={'folds': 10})"
            ]
          },
          "metadata": {},
          "execution_count": 10
        }
      ]
    },
    {
      "cell_type": "code",
      "source": [
        "print(automl.leaderboard())\n",
        "train_predictions = automl.predict(X_train)\n",
        "print(\"Train R2 score:\", sklearn.metrics.r2_score(y_train, train_predictions))\n",
        "test_predictions = automl.predict(X_test)\n",
        "print(\"Test R2 score:\", sklearn.metrics.r2_score(y_test, test_predictions))"
      ],
      "metadata": {
        "id": "U_wmG_p0yXpE"
      },
      "execution_count": null,
      "outputs": []
    },
    {
      "cell_type": "code",
      "source": [
        ""
      ],
      "metadata": {
        "colab": {
          "base_uri": "https://localhost:8080/",
          "height": 313
        },
        "id": "9rKcoAxrAwUt",
        "outputId": "1e49f4c8-d7fb-4755-ebbc-b11140a1ec7b"
      },
      "execution_count": 14,
      "outputs": [
        {
          "output_type": "error",
          "ename": "RuntimeError",
          "evalue": "ignored",
          "traceback": [
            "\u001b[0;31m---------------------------------------------------------------------------\u001b[0m",
            "\u001b[0;31mRuntimeError\u001b[0m                              Traceback (most recent call last)",
            "\u001b[0;32m<ipython-input-14-fdc0fdce5424>\u001b[0m in \u001b[0;36m<module>\u001b[0;34m()\u001b[0m\n\u001b[0;32m----> 1\u001b[0;31m \u001b[0mautoml\u001b[0m\u001b[0;34m.\u001b[0m\u001b[0mshow_models\u001b[0m\u001b[0;34m(\u001b[0m\u001b[0;34m)\u001b[0m\u001b[0;34m\u001b[0m\u001b[0;34m\u001b[0m\u001b[0m\n\u001b[0m",
            "\u001b[0;32m/usr/local/lib/python3.7/dist-packages/autosklearn/estimators.py\u001b[0m in \u001b[0;36mshow_models\u001b[0;34m(self)\u001b[0m\n\u001b[1;32m    606\u001b[0m         \"\"\"\n\u001b[1;32m    607\u001b[0m \u001b[0;34m\u001b[0m\u001b[0m\n\u001b[0;32m--> 608\u001b[0;31m         \u001b[0;32mreturn\u001b[0m \u001b[0mself\u001b[0m\u001b[0;34m.\u001b[0m\u001b[0mautoml_\u001b[0m\u001b[0;34m.\u001b[0m\u001b[0mshow_models\u001b[0m\u001b[0;34m(\u001b[0m\u001b[0;34m)\u001b[0m\u001b[0;34m\u001b[0m\u001b[0;34m\u001b[0m\u001b[0m\n\u001b[0m\u001b[1;32m    609\u001b[0m \u001b[0;34m\u001b[0m\u001b[0m\n\u001b[1;32m    610\u001b[0m     \u001b[0;32mdef\u001b[0m \u001b[0mget_models_with_weights\u001b[0m\u001b[0;34m(\u001b[0m\u001b[0mself\u001b[0m\u001b[0;34m)\u001b[0m\u001b[0;34m:\u001b[0m\u001b[0;34m\u001b[0m\u001b[0;34m\u001b[0m\u001b[0m\n",
            "\u001b[0;32m/usr/local/lib/python3.7/dist-packages/autosklearn/automl.py\u001b[0m in \u001b[0;36mshow_models\u001b[0;34m(self)\u001b[0m\n\u001b[1;32m   1922\u001b[0m         \u001b[0;31m# Checking if the dictionary is empty\u001b[0m\u001b[0;34m\u001b[0m\u001b[0;34m\u001b[0m\u001b[0;34m\u001b[0m\u001b[0m\n\u001b[1;32m   1923\u001b[0m         \u001b[0;32mif\u001b[0m \u001b[0;32mnot\u001b[0m \u001b[0mtable_dict\u001b[0m\u001b[0;34m:\u001b[0m\u001b[0;34m\u001b[0m\u001b[0;34m\u001b[0m\u001b[0m\n\u001b[0;32m-> 1924\u001b[0;31m             \u001b[0;32mraise\u001b[0m \u001b[0mRuntimeError\u001b[0m\u001b[0;34m(\u001b[0m\u001b[0;34m'No model found. Try increasing \\'time_left_for_this_task\\'.'\u001b[0m\u001b[0;34m)\u001b[0m\u001b[0;34m\u001b[0m\u001b[0;34m\u001b[0m\u001b[0m\n\u001b[0m\u001b[1;32m   1925\u001b[0m \u001b[0;34m\u001b[0m\u001b[0m\n\u001b[1;32m   1926\u001b[0m         \u001b[0;32mfor\u001b[0m \u001b[0mi\u001b[0m\u001b[0;34m,\u001b[0m \u001b[0mweight\u001b[0m \u001b[0;32min\u001b[0m \u001b[0menumerate\u001b[0m\u001b[0;34m(\u001b[0m\u001b[0mself\u001b[0m\u001b[0;34m.\u001b[0m\u001b[0mensemble_\u001b[0m\u001b[0;34m.\u001b[0m\u001b[0mweights_\u001b[0m\u001b[0;34m)\u001b[0m\u001b[0;34m:\u001b[0m\u001b[0;34m\u001b[0m\u001b[0;34m\u001b[0m\u001b[0m\n",
            "\u001b[0;31mRuntimeError\u001b[0m: No model found. Try increasing 'time_left_for_this_task'."
          ]
        }
      ]
    }
  ]
}