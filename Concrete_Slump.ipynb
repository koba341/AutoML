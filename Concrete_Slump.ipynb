{
 "cells": [
  {
   "cell_type": "code",
   "execution_count": 1,
   "metadata": {},
   "outputs": [],
   "source": [
    "import torch\n",
    "import sklearn\n",
    "import numpy as np\n",
    "import pandas as pd\n",
    "from torch import nn\n",
    "from torch.utils.data import DataLoader\n",
    "import sklearn.datasets\n",
    "import matplotlib.pyplot as plt\n",
    "\n",
    "import torch.functional as F"
   ]
  },
  {
   "cell_type": "code",
   "execution_count": 65,
   "metadata": {},
   "outputs": [
    {
     "name": "stdout",
     "output_type": "stream",
     "text": [
      "Average: tensor([[229.8942,  77.9738, 149.0146, 197.1680,   8.5398, 883.9785, 739.6048,\n",
      "          18.0485,  49.6107]]), Standard Deviation: tensor([[78.8772, 60.4614, 85.4181, 20.2082,  2.8075, 88.3914, 63.3421,  8.7508,\n",
      "         17.5686]])\n"
     ]
    }
   ],
   "source": [
    "# import dataset\n",
    "from sklearn.model_selection import train_test_split\n",
    "data = pd.read_csv(\"slump_test.csv\")\n",
    "X = torch.FloatTensor(data.iloc[:, 1:10].values)\n",
    "y = torch.FloatTensor(data.iloc[:, 10].values)\n",
    "\n",
    "means = X.mean(dim=0, keepdim=True)\n",
    "stds = X.std(dim=0, keepdim=True)\n",
    "X = (X - means) / stds\n",
    "\n",
    "X_train, X_test, y_train, y_test = train_test_split(X, y, train_size=0.76, random_state=1)\n",
    "print('Average: {}, Standard Deviation: {}'.format(means, stds))"
   ]
  },
  {
   "cell_type": "code",
   "execution_count": 126,
   "metadata": {},
   "outputs": [
    {
     "data": {
      "text/html": [
       "<div>\n",
       "<style scoped>\n",
       "    .dataframe tbody tr th:only-of-type {\n",
       "        vertical-align: middle;\n",
       "    }\n",
       "\n",
       "    .dataframe tbody tr th {\n",
       "        vertical-align: top;\n",
       "    }\n",
       "\n",
       "    .dataframe thead th {\n",
       "        text-align: right;\n",
       "    }\n",
       "</style>\n",
       "<table border=\"1\" class=\"dataframe\">\n",
       "  <thead>\n",
       "    <tr style=\"text-align: right;\">\n",
       "      <th></th>\n",
       "      <th>No</th>\n",
       "      <th>Cement</th>\n",
       "      <th>Slag</th>\n",
       "      <th>Fly ash</th>\n",
       "      <th>Water</th>\n",
       "      <th>SP</th>\n",
       "      <th>Coarse Aggr.</th>\n",
       "      <th>Fine Aggr.</th>\n",
       "      <th>SLUMP(cm)</th>\n",
       "      <th>FLOW(cm)</th>\n",
       "      <th>Compressive Strength (28-day)(Mpa)</th>\n",
       "    </tr>\n",
       "  </thead>\n",
       "  <tbody>\n",
       "    <tr>\n",
       "      <th>0</th>\n",
       "      <td>1</td>\n",
       "      <td>273.0</td>\n",
       "      <td>82.0</td>\n",
       "      <td>105.0</td>\n",
       "      <td>210.0</td>\n",
       "      <td>9.0</td>\n",
       "      <td>904.0</td>\n",
       "      <td>680.0</td>\n",
       "      <td>23.0</td>\n",
       "      <td>62.0</td>\n",
       "      <td>34.99</td>\n",
       "    </tr>\n",
       "    <tr>\n",
       "      <th>1</th>\n",
       "      <td>2</td>\n",
       "      <td>163.0</td>\n",
       "      <td>149.0</td>\n",
       "      <td>191.0</td>\n",
       "      <td>180.0</td>\n",
       "      <td>12.0</td>\n",
       "      <td>843.0</td>\n",
       "      <td>746.0</td>\n",
       "      <td>0.0</td>\n",
       "      <td>20.0</td>\n",
       "      <td>41.14</td>\n",
       "    </tr>\n",
       "    <tr>\n",
       "      <th>2</th>\n",
       "      <td>3</td>\n",
       "      <td>162.0</td>\n",
       "      <td>148.0</td>\n",
       "      <td>191.0</td>\n",
       "      <td>179.0</td>\n",
       "      <td>16.0</td>\n",
       "      <td>840.0</td>\n",
       "      <td>743.0</td>\n",
       "      <td>1.0</td>\n",
       "      <td>20.0</td>\n",
       "      <td>41.81</td>\n",
       "    </tr>\n",
       "    <tr>\n",
       "      <th>3</th>\n",
       "      <td>4</td>\n",
       "      <td>162.0</td>\n",
       "      <td>148.0</td>\n",
       "      <td>190.0</td>\n",
       "      <td>179.0</td>\n",
       "      <td>19.0</td>\n",
       "      <td>838.0</td>\n",
       "      <td>741.0</td>\n",
       "      <td>3.0</td>\n",
       "      <td>21.5</td>\n",
       "      <td>42.08</td>\n",
       "    </tr>\n",
       "    <tr>\n",
       "      <th>4</th>\n",
       "      <td>5</td>\n",
       "      <td>154.0</td>\n",
       "      <td>112.0</td>\n",
       "      <td>144.0</td>\n",
       "      <td>220.0</td>\n",
       "      <td>10.0</td>\n",
       "      <td>923.0</td>\n",
       "      <td>658.0</td>\n",
       "      <td>20.0</td>\n",
       "      <td>64.0</td>\n",
       "      <td>26.82</td>\n",
       "    </tr>\n",
       "  </tbody>\n",
       "</table>\n",
       "</div>"
      ],
      "text/plain": [
       "   No  Cement   Slag  Fly ash  Water    SP  Coarse Aggr.  Fine Aggr.  \\\n",
       "0   1   273.0   82.0    105.0  210.0   9.0         904.0       680.0   \n",
       "1   2   163.0  149.0    191.0  180.0  12.0         843.0       746.0   \n",
       "2   3   162.0  148.0    191.0  179.0  16.0         840.0       743.0   \n",
       "3   4   162.0  148.0    190.0  179.0  19.0         838.0       741.0   \n",
       "4   5   154.0  112.0    144.0  220.0  10.0         923.0       658.0   \n",
       "\n",
       "   SLUMP(cm)  FLOW(cm)  Compressive Strength (28-day)(Mpa)  \n",
       "0       23.0      62.0                               34.99  \n",
       "1        0.0      20.0                               41.14  \n",
       "2        1.0      20.0                               41.81  \n",
       "3        3.0      21.5                               42.08  \n",
       "4       20.0      64.0                               26.82  "
      ]
     },
     "execution_count": 126,
     "metadata": {},
     "output_type": "execute_result"
    }
   ],
   "source": [
    "data.head()"
   ]
  },
  {
   "cell_type": "markdown",
   "metadata": {},
   "source": [
    "# Neural Network"
   ]
  },
  {
   "cell_type": "code",
   "execution_count": 6,
   "metadata": {},
   "outputs": [],
   "source": [
    "def test_loss(X_test):\n",
    "    model.eval()\n",
    "    output = model(X_test)\n",
    "    loss = sklearn.metrics.mean_squared_error(output.detach().numpy(), y_test.unsqueeze(1).detach().numpy())\n",
    "    return loss.item()\n",
    "\n",
    "def eval_model(X, y):\n",
    "    model.eval()\n",
    "    y_preds = model(X).detach().numpy()\n",
    "    return sklearn.metrics.r2_score(y, y_preds), np.sqrt(sklearn.metrics.mean_squared_error(y, y_preds))"
   ]
  },
  {
   "cell_type": "code",
   "execution_count": 9,
   "metadata": {},
   "outputs": [],
   "source": [
    "# create MLP from literature\n",
    "class ConcreteNN(nn.Module):\n",
    "\n",
    "  def __init__(self):\n",
    "    super().__init__()\n",
    "\n",
    "    self.input_layer = nn.Linear(9, 9)     \n",
    "    self.hidden_layer = nn.Linear(9, 9)\n",
    "    self.output_layer = nn.Linear(9, 1) \n",
    "    self.activation = nn.Sigmoid()      \n",
    "\n",
    "  def forward(self, x):\n",
    "    x = self.input_layer(x)\n",
    "    x = self.activation(x)\n",
    "    x = self.hidden_layer(x)\n",
    "    x = self.activation(x)\n",
    "    x = self.output_layer(x)\n",
    "    return x"
   ]
  },
  {
   "cell_type": "code",
   "execution_count": 10,
   "metadata": {},
   "outputs": [
    {
     "name": "stdout",
     "output_type": "stream",
     "text": [
      "Train R2: 0.9334669923105378, Train RMSE: 1.9554795026779175\n",
      "Test R2: 0.8524335960614137, Test RMSE: 3.1365151405334473\n"
     ]
    },
    {
     "data": {
      "image/png": "[encoded data removed]",
      "text/plain": [
       "<Figure size 432x288 with 1 Axes>"
      ]
     },
     "metadata": {
      "needs_background": "light"
     },
     "output_type": "display_data"
    }
   ],
   "source": [
    "model = ConcreteNN()\n",
    "criterion = nn.MSELoss()\n",
    "optimizer= torch.optim.SGD(model.parameters(), lr=0.001, momentum= 0.5)\n",
    "epochs = 2000\n",
    "loss_over_time = []\n",
    "test_loss_over_time = []\n",
    "for i in range(epochs):\n",
    "    model.train()\n",
    "    optimizer.zero_grad()\n",
    "    output = model(X_train)\n",
    "    target = y_train.unsqueeze(1)\n",
    "    loss = criterion(output, target)\n",
    "    loss_over_time.append(loss.item())\n",
    "\n",
    "    test_loss_over_time.append(test_loss(X_test))\n",
    "\n",
    "    loss.backward()\n",
    "    optimizer.step()\n",
    "\n",
    "\n",
    "plt.figure()\n",
    "plt.plot(loss_over_time)\n",
    "plt.plot(test_loss_over_time)\n",
    "\n",
    "test_r2, test_rmse = eval_model(X_test, y_test)\n",
    "train_r2, train_rmse = eval_model(X_train, y_train)\n",
    "print('Train R2: {}, Train RMSE: {}'.format(train_r2, train_rmse))\n",
    "print('Test R2: {}, Test RMSE: {}'.format(test_r2, test_rmse))"
   ]
  },
  {
   "cell_type": "code",
   "execution_count": 11,
   "metadata": {},
   "outputs": [
    {
     "name": "stdout",
     "output_type": "stream",
     "text": [
      "Train R2: 0.9335708943569831, Train RMSE: 1.9531769967079162\n",
      "Test R2: 0.8509789539130022, Test RMSE: 3.1514614152908327\n"
     ]
    }
   ],
   "source": [
    "# Netz mit 50 Zufallsinitialisierungen laufen lassen\n",
    "test_r2_list = []\n",
    "test_rmse_list = []\n",
    "train_r2_list = []\n",
    "train_rmse_list = []\n",
    "\n",
    "for i in range(50):\n",
    "    model = ConcreteNN()\n",
    "    criterion = nn.MSELoss()\n",
    "    optimizer= torch.optim.SGD(model.parameters(), lr=0.001, momentum= 0.5)\n",
    "    epochs = 2000\n",
    "    loss_over_time = []\n",
    "    test_loss_over_time = []\n",
    "    for i in range(epochs):\n",
    "        model.train()\n",
    "        optimizer.zero_grad()\n",
    "        output = model(X_train)\n",
    "        target = y_train.unsqueeze(1)\n",
    "        loss = criterion(output, target)\n",
    "        loss_over_time.append(loss.item())\n",
    "\n",
    "        test_loss_over_time.append(test_loss(X_test))\n",
    "\n",
    "        loss.backward()\n",
    "        optimizer.step()\n",
    "\n",
    "    test_r2, test_rmse = eval_model(X_test, y_test)\n",
    "    train_r2, train_rmse = eval_model(X_train, y_train)\n",
    "    test_r2_list.append(test_r2)\n",
    "    test_rmse_list.append(test_rmse)\n",
    "    train_r2_list.append(train_r2)\n",
    "    train_rmse_list.append(train_rmse)\n",
    "    \n",
    "print('Train R2: {}, Train RMSE: {}'.format(sum(train_r2_list)/50, sum(train_rmse_list)/50))\n",
    "print('Test R2: {}, Test RMSE: {}'.format(sum(test_r2_list)/50, sum(test_rmse_list)/50))"
   ]
  },
  {
   "cell_type": "code",
   "execution_count": 12,
   "metadata": {},
   "outputs": [
    {
     "name": "stdout",
     "output_type": "stream",
     "text": [
      "Train R2 CV: [0.9365665508169131, 0.9381206726858291, 0.9186301664297181, 0.937422354732493, 0.9239608380978261, 0.9241515486648064, 0.9389983795838839, 0.9280217569389932, 0.93198668902406, 0.914228470235457]\n",
      "Train R2: 0.929208742720998, Train RMSE: 2.064258134365082\n",
      "Test R2 CV: [0.8740753489806786, 0.7612450709274932, 0.9121078601875839, 0.8151181016990399, 0.8004768281092081, 0.9432856609794031, 0.8589828742949475, 0.7845294115448191, 0.7863367527578582, 0.6911063053136529]\n",
      "Test R2: 0.8227264214794685, Test RMSE: 2.5499496459960938\n"
     ]
    }
   ],
   "source": [
    "# test with cv k = 10\n",
    "test_r2_list = []\n",
    "test_rmse_list = []\n",
    "train_r2_list = []\n",
    "train_rmse_list = []\n",
    "K = 10\n",
    "skf = sklearn.model_selection.KFold(n_splits=K)\n",
    "skf.get_n_splits(X, y)\n",
    "for train_index, test_index in skf.split(X, y):\n",
    "    X_train, X_test = X[train_index], X[test_index]\n",
    "    y_train, y_test = y[train_index], y[test_index]\n",
    "    X_train = torch.FloatTensor(X_train)\n",
    "    X_test = torch.FloatTensor(X_test)\n",
    "    y_train = torch.FloatTensor(y_train)\n",
    "    y_test = torch.FloatTensor(y_test)\n",
    "\n",
    "    model = ConcreteNN()\n",
    "    criterion = nn.MSELoss()\n",
    "    optimizer= torch.optim.SGD(model.parameters(), lr=0.001, momentum= 0.5)\n",
    "    epochs = 2000\n",
    "    loss_over_time = []\n",
    "    test_loss_over_time = []\n",
    "    for i in range(epochs):\n",
    "        model.train()\n",
    "        optimizer.zero_grad()\n",
    "        output = model(X_train)\n",
    "        target = y_train.unsqueeze(1)\n",
    "        loss = criterion(output, target)\n",
    "        loss_over_time.append(loss.item())\n",
    "\n",
    "        test_loss_over_time.append(test_loss(X_test))\n",
    "\n",
    "        loss.backward()\n",
    "        optimizer.step()\n",
    "\n",
    "    test_r2, test_rmse = eval_model(X_test, y_test)\n",
    "    train_r2, train_rmse = eval_model(X_train, y_train)\n",
    "    test_r2_list.append(test_r2)\n",
    "    test_rmse_list.append(test_rmse)\n",
    "    train_r2_list.append(train_r2)\n",
    "    train_rmse_list.append(train_rmse)\n",
    "\n",
    "print('Train R2 CV: {}'.format(train_r2_list))\n",
    "print('Train R2: {}, Train RMSE: {}'.format(sum(train_r2_list)/K, sum(train_rmse_list)/K))\n",
    "print('Test R2 CV: {}'.format(test_r2_list))\n",
    "print('Test R2: {}, Test RMSE: {}'.format(sum(test_r2_list)/K, sum(test_rmse_list)/K))\n",
    "\n",
    "    "
   ]
  },
  {
   "cell_type": "markdown",
   "metadata": {},
   "source": [
    "# Informed Machine Learning: Custom Loss Function"
   ]
  },
  {
   "cell_type": "code",
   "execution_count": 135,
   "metadata": {},
   "outputs": [
    {
     "name": "stdout",
     "output_type": "stream",
     "text": [
      "[16.042206]\n"
     ]
    },
    {
     "data": {
      "text/plain": [
       "[<matplotlib.lines.Line2D at 0x7f900ed990d0>]"
      ]
     },
     "execution_count": 135,
     "metadata": {},
     "output_type": "execute_result"
    },
    {
     "data": {
      "image/png": "[encoded data removed]",
      "text/plain": [
       "<Figure size 432x288 with 1 Axes>"
      ]
     },
     "metadata": {
      "needs_background": "light"
     },
     "output_type": "display_data"
    }
   ],
   "source": [
    "# linear regression\n",
    "import sklearn.linear_model\n",
    "WZ = torch.FloatTensor(data.iloc[:, [1, 4]].values)\n",
    "W = (WZ[:, 1]/WZ[:, 0]).reshape(-1, 1) # Water/Cement\n",
    "ones = torch.ones(W.shape)\n",
    "#W = torch.hstack((ones, W))\n",
    "s = torch.FloatTensor(data.iloc[:, 8].values)\n",
    "\n",
    "W_train, W_test, s_train, s_test = train_test_split(W, s, train_size=0.76, random_state=1)\n",
    "LR = sklearn.linear_model.LinearRegression(fit_intercept=False)\n",
    "LR.fit(W_train, s_train)\n",
    "b = LR.coef_\n",
    "print(b)\n",
    "x_line = np.linspace(-6, 6, 100)\n",
    "y_line = b*x_line\n",
    "\n",
    "plt.scatter(W, s)\n",
    "plt.plot(x_line, y_line)"
   ]
  },
  {
   "cell_type": "code",
   "execution_count": 146,
   "metadata": {},
   "outputs": [],
   "source": [
    "# custom losses v1... check influence of normalization and standardization of data on MSE....\n",
    "def informed_loss1(input, output, target, lamb):\n",
    "    w = (input[:, 3]/input[:, 0]).reshape(-1, 1)\n",
    "    ones = torch.ones(w.shape)\n",
    "    w = torch.hstack((ones, w))\n",
    "    LR = sklearn.linear_model.LinearRegression(fit_intercept=False)\n",
    "    LR.fit(w, target)\n",
    "    b = LR.coef_\n",
    "    mse = nn.MSELoss()\n",
    "    relu = nn.ReLU()\n",
    "    info = torch.sum(output - (b[0][0] + b[0][1]*w))\n",
    "    return mse(output, target) + lamb*relu(info)\n",
    "\n",
    "def informed_loss2(input, output, target, lamb):\n",
    "    w = (input[:, 3]/input[:, 0]).reshape(-1, 1)\n",
    "    ones = torch.ones(w.shape)\n",
    "    w = torch.hstack((ones, w))\n",
    "    LR = sklearn.linear_model.LinearRegression(fit_intercept=False)\n",
    "    LR.fit(w, target)\n",
    "    b = LR.coef_\n",
    "    mse = nn.MSELoss()\n",
    "    relu = nn.ReLU()\n",
    "    info = torch.abs(torch.sum(output - (b[0][0] + b[0][1]*w)))\n",
    "    return mse(output, target) + lamb*relu(info)\n",
    "    \n",
    "def informed_loss3(input, output, target, lamb):\n",
    "    w = (input[:, 3]/input[:, 0]).reshape(-1, 1)\n",
    "    ones = torch.ones(w.shape)\n",
    "    w = torch.hstack((ones, w))\n",
    "    LR = sklearn.linear_model.LinearRegression(fit_intercept=False)\n",
    "    LR.fit(w, target)\n",
    "    b = LR.coef_\n",
    "    mse = nn.MSELoss()\n",
    "    relu = nn.ReLU()\n",
    "    info = torch.sum(output - (b[0][0] + b[0][1]*w))\n",
    "    return mse(output, target) + lamb*torch.abs(info)"
   ]
  },
  {
   "cell_type": "code",
   "execution_count": 136,
   "metadata": {},
   "outputs": [],
   "source": [
    "# custom loss v2 ... should look over it again tomorrow\n",
    "def informed_loss1(input, output, target, lamb):\n",
    "    w = (input[:, 3]/input[:, 0]).reshape(-1, 1)\n",
    "    b = 16.042206\n",
    "    mse = nn.MSELoss()\n",
    "    relu = nn.ReLU()\n",
    "    info = torch.sum(output - (b*w))\n",
    "    return mse(output, target) + lamb*relu(info)\n",
    "\n",
    "def informed_loss2(input, output, target, lamb):\n",
    "    w = (input[:, 3]/input[:, 0]).reshape(-1, 1)\n",
    "    b = 16.042206\n",
    "    mse = nn.MSELoss()\n",
    "    relu = nn.ReLU()\n",
    "    info = torch.abs(torch.sum(output - (b*w)))\n",
    "    return mse(output, target) + lamb*relu(info)\n",
    "    \n",
    "def informed_loss3(input, output, target, lamb):\n",
    "    w = (input[:, 3]/input[:, 0]).reshape(-1, 1)\n",
    "    b = 16.042206\n",
    "    mse = nn.MSELoss()\n",
    "    relu = nn.ReLU()\n",
    "    info = torch.sum(output - (b*w))\n",
    "    return mse(output, target) + lamb*torch.abs(info)"
   ]
  },
  {
   "cell_type": "markdown",
   "metadata": {},
   "source": [
    "\\begin{align}\n",
    "InformedLoss = MSELoss(output, target) + \\lambda\\cdot ReLU(target - (b_0 + b_1\\cdot w))\n",
    "\\end{align}"
   ]
  },
  {
   "cell_type": "code",
   "execution_count": 137,
   "metadata": {},
   "outputs": [
    {
     "name": "stdout",
     "output_type": "stream",
     "text": [
      "[0.8051928281784058, 0.8066423535346985, 0.8090708255767822, 0.6290751099586487, -6.68927001953125, -12.002511024475098]\n"
     ]
    },
    {
     "data": {
      "image/png": "[encoded data removed]",
      "text/plain": [
       "<Figure size 432x288 with 1 Axes>"
      ]
     },
     "metadata": {
      "needs_background": "light"
     },
     "output_type": "display_data"
    }
   ],
   "source": [
    "# test with cv k = 10\n",
    "K = 10 # K Folds\n",
    "lamb = 10 \n",
    "\n",
    "test_r2_list = []\n",
    "test_rmse_list = []\n",
    "train_r2_list = []\n",
    "train_rmse_list = []\n",
    "train_r2_means = []\n",
    "train_r2_stds = []\n",
    "train_rmse_means = [] \n",
    "train_rmse_stds = []\n",
    "test_r2_means = [] \n",
    "test_r2_stds = []\n",
    "test_rmse_means = [] \n",
    "test_rmse_stds = []\n",
    "lambdas = [0, 0.001, 0.01, 0.1, 1, 10]\n",
    "\n",
    "skf = sklearn.model_selection.KFold(n_splits=K)\n",
    "skf.get_n_splits(X, y)\n",
    "for lamb in lambdas:\n",
    "    for train_index, test_index in skf.split(X, y):\n",
    "        X_train, X_test = X[train_index], X[test_index]\n",
    "        y_train, y_test = y[train_index], y[test_index]\n",
    "        X_train = torch.FloatTensor(X_train)\n",
    "        X_test = torch.FloatTensor(X_test)\n",
    "        y_train = torch.FloatTensor(y_train)\n",
    "        y_test = torch.FloatTensor(y_test)\n",
    "        model = ConcreteNN()\n",
    "        optimizer= torch.optim.SGD(model.parameters(), lr=0.001, momentum= 0.5)\n",
    "        epochs = 2000\n",
    "        loss_over_time = []\n",
    "        test_loss_over_time = []\n",
    "        for i in range(epochs):\n",
    "            model.train()\n",
    "            optimizer.zero_grad()\n",
    "            output = model(X_train)\n",
    "            target = y_train.unsqueeze(1)\n",
    "            loss = informed_loss1(X_train, output, target, lamb)\n",
    "            loss.backward()\n",
    "            optimizer.step()\n",
    "\n",
    "        test_r2, test_rmse = eval_model(X_test, y_test)\n",
    "        train_r2, train_rmse = eval_model(X_train, y_train)\n",
    "        test_r2_list.append(test_r2)\n",
    "        test_rmse_list.append(test_rmse)\n",
    "        train_r2_list.append(train_r2)\n",
    "        train_rmse_list.append(train_rmse)\n",
    "\n",
    "\n",
    "    train_r2_mean = torch.mean(torch.FloatTensor(train_r2_list)).item()\n",
    "    train_r2_std = torch.std(torch.FloatTensor(train_r2_list)).item()\n",
    "    train_rmse_mean = torch.mean(torch.FloatTensor(train_rmse_list)).item()\n",
    "    train_rmse_std = torch.std(torch.FloatTensor(train_rmse_list)).item()\n",
    "    test_r2_mean = torch.mean(torch.FloatTensor(test_r2_list)).item()\n",
    "    test_r2_std = torch.std(torch.FloatTensor(test_r2_list)).item()\n",
    "    test_rmse_mean = torch.mean(torch.FloatTensor(test_rmse_list)).item()\n",
    "    test_rmse_std = torch.std(torch.FloatTensor(test_rmse_list)).item()\n",
    "\n",
    "    train_r2_means.append(train_r2_mean)\n",
    "    train_r2_stds.append(train_r2_std)\n",
    "    train_rmse_means.append(train_rmse_mean)\n",
    "    train_rmse_stds.append(train_rmse_std)\n",
    "    test_r2_means.append(test_r2_mean)\n",
    "    test_r2_stds.append(test_r2_std)\n",
    "    test_rmse_means.append(test_rmse_mean) \n",
    "    test_rmse_stds.append(test_rmse_std)\n",
    "\n",
    "plt.errorbar(lambdas, test_r2_means, test_r2_stds, linestyle='None', marker='o')\n",
    "plt.xscale('log')\n",
    "print(test_r2_means)"
   ]
  },
  {
   "cell_type": "markdown",
   "metadata": {},
   "source": [
    "Test with different lambdas and then plot errorplot..."
   ]
  },
  {
   "cell_type": "markdown",
   "metadata": {},
   "source": [
    "\\begin{align}\n",
    "InformedLoss = MSELoss(output, target) + \\lambda\\cdot ReLU(|f - (b_0 + b_1\\cdot w)|)\n",
    "\\end{align}"
   ]
  },
  {
   "cell_type": "code",
   "execution_count": 72,
   "metadata": {},
   "outputs": [
    {
     "name": "stdout",
     "output_type": "stream",
     "text": [
      "Train R2 Mean: 0.9353905916213989, Train R2 Stdev: 0.0053011695854365826 Train RMSE Mean: 1.968754529953003, Train R2 Stdev: 0.09107279032468796\n",
      "Test R2 Mean: 0.820319652557373, Test R2 Stdev: 0.07377374172210693 Test RMSE Mean: 3.0798840522766113, Test R2 Stdev: 0.6790127754211426\n"
     ]
    }
   ],
   "source": [
    "# test with cv k = 4\n",
    "K = 4 # K Folds\n",
    "lamb = 0.01\n",
    "test_r2_list = []\n",
    "test_rmse_list = []\n",
    "train_r2_list = []\n",
    "train_rmse_list = []\n",
    "skf = sklearn.model_selection.KFold(n_splits=K)\n",
    "skf.get_n_splits(X, y)\n",
    "for train_index, test_index in skf.split(X, y):\n",
    "    X_train, X_test = X[train_index], X[test_index]\n",
    "    y_train, y_test = y[train_index], y[test_index]\n",
    "    X_train = torch.FloatTensor(X_train)\n",
    "    X_test = torch.FloatTensor(X_test)\n",
    "    y_train = torch.FloatTensor(y_train)\n",
    "    y_test = torch.FloatTensor(y_test)\n",
    "    model = ConcreteNN()\n",
    "    optimizer= torch.optim.SGD(model.parameters(), lr=0.001, momentum= 0.5)\n",
    "    epochs = 2000\n",
    "    loss_over_time = []\n",
    "    test_loss_over_time = []\n",
    "    for i in range(epochs):\n",
    "        model.train()\n",
    "        optimizer.zero_grad()\n",
    "        output = model(X_train)\n",
    "        target = y_train.unsqueeze(1)\n",
    "        loss = informed_loss1(X_train, output, target, lamb)\n",
    "        #loss = criterion(output, target)\n",
    "        loss_over_time.append(loss.item())\n",
    "\n",
    "        test_loss_over_time.append(test_loss(X_test))\n",
    "\n",
    "        loss.backward()\n",
    "        optimizer.step()\n",
    "\n",
    "\n",
    "    #plt.figure()\n",
    "    #plt.plot(loss_over_time)\n",
    "    #plt.plot(test_loss_over_time)\n",
    "\n",
    "    test_r2, test_rmse = eval_model(X_test, y_test)\n",
    "    train_r2, train_rmse = eval_model(X_train, y_train)\n",
    "    test_r2_list.append(test_r2)\n",
    "    test_rmse_list.append(test_rmse)\n",
    "    train_r2_list.append(train_r2)\n",
    "    train_rmse_list.append(train_rmse)\n",
    "\n",
    "\n",
    "train_r2_mean = torch.mean(torch.FloatTensor(train_r2_list)).item()\n",
    "train_r2_std = torch.std(torch.FloatTensor(train_r2_list)).item()\n",
    "train_rmse_mean = torch.mean(torch.FloatTensor(train_rmse_list)).item()\n",
    "train_rmse_std = torch.std(torch.FloatTensor(train_rmse_list)).item()\n",
    "test_r2_mean = torch.mean(torch.FloatTensor(test_r2_list)).item()\n",
    "test_r2_std = torch.std(torch.FloatTensor(test_r2_list)).item()\n",
    "test_rmse_mean = torch.mean(torch.FloatTensor(test_rmse_list)).item()\n",
    "test_rmse_std = torch.std(torch.FloatTensor(test_rmse_list)).item()\n",
    "print('Train R2 Mean: {}, Train R2 Stdev: {} Train RMSE Mean: {}, Train R2 Stdev: {}'.format(train_r2_mean, train_r2_std, train_rmse_mean, train_rmse_std))\n",
    "print('Test R2 Mean: {}, Test R2 Stdev: {} Test RMSE Mean: {}, Test R2 Stdev: {}'.format(test_r2_mean, test_r2_std, test_rmse_mean, test_rmse_std))"
   ]
  },
  {
   "cell_type": "code",
   "execution_count": 138,
   "metadata": {},
   "outputs": [
    {
     "name": "stdout",
     "output_type": "stream",
     "text": [
      "[0.8130780458450317, 0.8174673318862915, 0.8157296776771545, 0.6510791778564453, -6.612228870391846, -11.721270561218262]\n"
     ]
    },
    {
     "data": {
      "image/png": "[encoded data removed]",
      "text/plain": [
       "<Figure size 432x288 with 1 Axes>"
      ]
     },
     "metadata": {
      "needs_background": "light"
     },
     "output_type": "display_data"
    }
   ],
   "source": [
    "# test with cv k = 10\n",
    "K = 10 # K Folds\n",
    "test_r2_list = []\n",
    "test_rmse_list = []\n",
    "train_r2_list = []\n",
    "train_rmse_list = []\n",
    "train_r2_means = []\n",
    "train_r2_stds = []\n",
    "train_rmse_means = [] \n",
    "train_rmse_stds = []\n",
    "test_r2_means = [] \n",
    "test_r2_stds = []\n",
    "test_rmse_means = [] \n",
    "test_rmse_stds = []\n",
    "lambdas = [0, 0.001, 0.01, 0.1, 1, 10]\n",
    "\n",
    "skf = sklearn.model_selection.KFold(n_splits=K)\n",
    "skf.get_n_splits(X, y)\n",
    "for lamb in lambdas:\n",
    "    for train_index, test_index in skf.split(X, y):\n",
    "        X_train, X_test = X[train_index], X[test_index]\n",
    "        y_train, y_test = y[train_index], y[test_index]\n",
    "        X_train = torch.FloatTensor(X_train)\n",
    "        X_test = torch.FloatTensor(X_test)\n",
    "        y_train = torch.FloatTensor(y_train)\n",
    "        y_test = torch.FloatTensor(y_test)\n",
    "        model = ConcreteNN()\n",
    "        optimizer= torch.optim.SGD(model.parameters(), lr=0.001, momentum= 0.5)\n",
    "        epochs = 2000\n",
    "        loss_over_time = []\n",
    "        test_loss_over_time = []\n",
    "        for i in range(epochs):\n",
    "            model.train()\n",
    "            optimizer.zero_grad()\n",
    "            output = model(X_train)\n",
    "            target = y_train.unsqueeze(1)\n",
    "            loss = informed_loss2(X_train, output, target, lamb)\n",
    "            loss.backward()\n",
    "            optimizer.step()\n",
    "\n",
    "        test_r2, test_rmse = eval_model(X_test, y_test)\n",
    "        train_r2, train_rmse = eval_model(X_train, y_train)\n",
    "        test_r2_list.append(test_r2)\n",
    "        test_rmse_list.append(test_rmse)\n",
    "        train_r2_list.append(train_r2)\n",
    "        train_rmse_list.append(train_rmse)\n",
    "\n",
    "\n",
    "    train_r2_mean = torch.mean(torch.FloatTensor(train_r2_list)).item()\n",
    "    train_r2_std = torch.std(torch.FloatTensor(train_r2_list)).item()\n",
    "    train_rmse_mean = torch.mean(torch.FloatTensor(train_rmse_list)).item()\n",
    "    train_rmse_std = torch.std(torch.FloatTensor(train_rmse_list)).item()\n",
    "    test_r2_mean = torch.mean(torch.FloatTensor(test_r2_list)).item()\n",
    "    test_r2_std = torch.std(torch.FloatTensor(test_r2_list)).item()\n",
    "    test_rmse_mean = torch.mean(torch.FloatTensor(test_rmse_list)).item()\n",
    "    test_rmse_std = torch.std(torch.FloatTensor(test_rmse_list)).item()\n",
    "\n",
    "    train_r2_means.append(train_r2_mean)\n",
    "    train_r2_stds.append(train_r2_std)\n",
    "    train_rmse_means.append(train_rmse_mean)\n",
    "    train_rmse_stds.append(train_rmse_std)\n",
    "    test_r2_means.append(test_r2_mean)\n",
    "    test_r2_stds.append(test_r2_std)\n",
    "    test_rmse_means.append(test_rmse_mean) \n",
    "    test_rmse_stds.append(test_rmse_std)\n",
    "\n",
    "plt.errorbar(lambdas, test_r2_means, test_r2_stds, linestyle='None', marker='o')\n",
    "plt.xscale('log')\n",
    "print(test_r2_means)"
   ]
  },
  {
   "cell_type": "markdown",
   "metadata": {},
   "source": [
    "\\begin{align}\n",
    "InformedLoss = MSELoss(output, target) + \\lambda\\cdot|f - (b_0 + b_1\\cdot w)|\n",
    "\\end{align}"
   ]
  },
  {
   "cell_type": "code",
   "execution_count": 145,
   "metadata": {},
   "outputs": [
    {
     "name": "stdout",
     "output_type": "stream",
     "text": [
      "Train R2 Mean: 0.9319712519645691, Train R2 Stdev: 0.011459430679678917 Train RMSE Mean: 2.0198357105255127, Train R2 Stdev: 0.11146076768636703\n",
      "Test R2 Mean: 0.8093721270561218, Test R2 Stdev: 0.08625514060258865 Test RMSE Mean: 2.6135287284851074, Test R2 Stdev: 0.7351322174072266\n"
     ]
    }
   ],
   "source": [
    "# test with cv k = 4\n",
    "K = 10 # K Folds\n",
    "lamb = 0.1\n",
    "test_r2_list = []\n",
    "test_rmse_list = []\n",
    "train_r2_list = []\n",
    "train_rmse_list = []\n",
    "skf = sklearn.model_selection.KFold(n_splits=K)\n",
    "skf.get_n_splits(X, y)\n",
    "for train_index, test_index in skf.split(X, y):\n",
    "    X_train, X_test = X[train_index], X[test_index]\n",
    "    y_train, y_test = y[train_index], y[test_index]\n",
    "    X_train = torch.FloatTensor(X_train)\n",
    "    X_test = torch.FloatTensor(X_test)\n",
    "    y_train = torch.FloatTensor(y_train)\n",
    "    y_test = torch.FloatTensor(y_test)\n",
    "    model = ConcreteNN()\n",
    "    optimizer= torch.optim.SGD(model.parameters(), lr=0.001, momentum= 0.5)\n",
    "    epochs = 2000\n",
    "    loss_over_time = []\n",
    "    test_loss_over_time = []\n",
    "    for i in range(epochs):\n",
    "        model.train()\n",
    "        optimizer.zero_grad()\n",
    "        output = model(X_train)\n",
    "        target = y_train.unsqueeze(1)\n",
    "        #loss = informed_loss3(X_train, output, target, lamb)\n",
    "        loss = criterion(output, target)\n",
    "        loss_over_time.append(loss.item())\n",
    "\n",
    "        test_loss_over_time.append(test_loss(X_test))\n",
    "\n",
    "        loss.backward()\n",
    "        optimizer.step()\n",
    "\n",
    "\n",
    "    #plt.figure()\n",
    "    #plt.plot(loss_over_time)\n",
    "    #plt.plot(test_loss_over_time)\n",
    "\n",
    "    test_r2, test_rmse = eval_model(X_test, y_test)\n",
    "    train_r2, train_rmse = eval_model(X_train, y_train)\n",
    "    test_r2_list.append(test_r2)\n",
    "    test_rmse_list.append(test_rmse)\n",
    "    train_r2_list.append(train_r2)\n",
    "    train_rmse_list.append(train_rmse)\n",
    "\n",
    "\n",
    "train_r2_mean = torch.mean(torch.FloatTensor(train_r2_list)).item()\n",
    "train_r2_std = torch.std(torch.FloatTensor(train_r2_list)).item()\n",
    "train_rmse_mean = torch.mean(torch.FloatTensor(train_rmse_list)).item()\n",
    "train_rmse_std = torch.std(torch.FloatTensor(train_rmse_list)).item()\n",
    "test_r2_mean = torch.mean(torch.FloatTensor(test_r2_list)).item()\n",
    "test_r2_std = torch.std(torch.FloatTensor(test_r2_list)).item()\n",
    "test_rmse_mean = torch.mean(torch.FloatTensor(test_rmse_list)).item()\n",
    "test_rmse_std = torch.std(torch.FloatTensor(test_rmse_list)).item()\n",
    "print('Train R2 Mean: {}, Train R2 Stdev: {} Train RMSE Mean: {}, Train R2 Stdev: {}'.format(train_r2_mean, train_r2_std, train_rmse_mean, train_rmse_std))\n",
    "print('Test R2 Mean: {}, Test R2 Stdev: {} Test RMSE Mean: {}, Test R2 Stdev: {}'.format(test_r2_mean, test_r2_std, test_rmse_mean, test_rmse_std))"
   ]
  },
  {
   "cell_type": "code",
   "execution_count": 147,
   "metadata": {},
   "outputs": [
    {
     "name": "stdout",
     "output_type": "stream",
     "text": [
      "[0.8205771446228027, 0.8142261505126953, 0.8185831904411316, 0.8082209825515747, 0.7188535928726196, 0.43627309799194336]\n"
     ]
    },
    {
     "data": {
      "image/png": "[encoded data removed]",
      "text/plain": [
       "<Figure size 432x288 with 1 Axes>"
      ]
     },
     "metadata": {
      "needs_background": "light"
     },
     "output_type": "display_data"
    }
   ],
   "source": [
    "# test with cv k = 10\n",
    "K = 10 # K Folds\n",
    "lamb = 10 \n",
    "\n",
    "test_r2_list = []\n",
    "test_rmse_list = []\n",
    "train_r2_list = []\n",
    "train_rmse_list = []\n",
    "train_r2_means = []\n",
    "train_r2_stds = []\n",
    "train_rmse_means = [] \n",
    "train_rmse_stds = []\n",
    "test_r2_means = [] \n",
    "test_r2_stds = []\n",
    "test_rmse_means = [] \n",
    "test_rmse_stds = []\n",
    "lambdas = [0, 0.001, 0.01, 0.1, 1, 10]\n",
    "\n",
    "skf = sklearn.model_selection.KFold(n_splits=K)\n",
    "skf.get_n_splits(X, y)\n",
    "for lamb in lambdas:\n",
    "    for train_index, test_index in skf.split(X, y):\n",
    "        X_train, X_test = X[train_index], X[test_index]\n",
    "        y_train, y_test = y[train_index], y[test_index]\n",
    "        X_train = torch.FloatTensor(X_train)\n",
    "        X_test = torch.FloatTensor(X_test)\n",
    "        y_train = torch.FloatTensor(y_train)\n",
    "        y_test = torch.FloatTensor(y_test)\n",
    "        model = ConcreteNN()\n",
    "        optimizer= torch.optim.SGD(model.parameters(), lr=0.001, momentum= 0.5)\n",
    "        epochs = 2000\n",
    "        loss_over_time = []\n",
    "        test_loss_over_time = []\n",
    "        for i in range(epochs):\n",
    "            model.train()\n",
    "            optimizer.zero_grad()\n",
    "            output = model(X_train)\n",
    "            target = y_train.unsqueeze(1)\n",
    "            loss = informed_loss3(X_train, output, target, lamb)\n",
    "            loss.backward()\n",
    "            optimizer.step()\n",
    "\n",
    "        test_r2, test_rmse = eval_model(X_test, y_test)\n",
    "        train_r2, train_rmse = eval_model(X_train, y_train)\n",
    "        test_r2_list.append(test_r2)\n",
    "        test_rmse_list.append(test_rmse)\n",
    "        train_r2_list.append(train_r2)\n",
    "        train_rmse_list.append(train_rmse)\n",
    "\n",
    "\n",
    "    train_r2_mean = torch.mean(torch.FloatTensor(train_r2_list)).item()\n",
    "    train_r2_std = torch.std(torch.FloatTensor(train_r2_list)).item()\n",
    "    train_rmse_mean = torch.mean(torch.FloatTensor(train_rmse_list)).item()\n",
    "    train_rmse_std = torch.std(torch.FloatTensor(train_rmse_list)).item()\n",
    "    test_r2_mean = torch.mean(torch.FloatTensor(test_r2_list)).item()\n",
    "    test_r2_std = torch.std(torch.FloatTensor(test_r2_list)).item()\n",
    "    test_rmse_mean = torch.mean(torch.FloatTensor(test_rmse_list)).item()\n",
    "    test_rmse_std = torch.std(torch.FloatTensor(test_rmse_list)).item()\n",
    "\n",
    "    train_r2_means.append(train_r2_mean)\n",
    "    train_r2_stds.append(train_r2_std)\n",
    "    train_rmse_means.append(train_rmse_mean)\n",
    "    train_rmse_stds.append(train_rmse_std)\n",
    "    test_r2_means.append(test_r2_mean)\n",
    "    test_r2_stds.append(test_r2_std)\n",
    "    test_rmse_means.append(test_rmse_mean) \n",
    "    test_rmse_stds.append(test_rmse_std)\n",
    "\n",
    "plt.errorbar(lambdas, test_r2_means, test_r2_stds, linestyle='None', marker='o')\n",
    "plt.xscale('log')\n",
    "print(test_r2_means)"
   ]
  }
 ],
 "metadata": {
  "kernelspec": {
   "display_name": "Python 3.8.13 ('AutoML')",
   "language": "python",
   "name": "python3"
  },
  "language_info": {
   "codemirror_mode": {
    "name": "ipython",
    "version": 3
   },
   "file_extension": ".py",
   "mimetype": "text/x-python",
   "name": "python",
   "nbconvert_exporter": "python",
   "pygments_lexer": "ipython3",
   "version": "3.8.13"
  },
  "orig_nbformat": 4,
  "vscode": {
   "interpreter": {
    "hash": "8c987f447b3d8b7fbc1b90bcfc8f9402522a4a53d74324611693e3c189ce101c"
   }
  }
 },
 "nbformat": 4,
 "nbformat_minor": 2
}
