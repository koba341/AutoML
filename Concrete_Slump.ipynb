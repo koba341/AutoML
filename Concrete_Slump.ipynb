{
 "cells": [
  {
   "cell_type": "code",
   "execution_count": 178,
   "metadata": {},
   "outputs": [],
   "source": [
    "import torch\n",
    "import sklearn\n",
    "import numpy as np\n",
    "import pandas as pd\n",
    "from torch import nn\n",
    "from torch.utils.data import DataLoader\n",
    "import sklearn.datasets\n",
    "import matplotlib.pyplot as plt"
   ]
  },
  {
   "cell_type": "code",
   "execution_count": 179,
   "metadata": {},
   "outputs": [
    {
     "name": "stdout",
     "output_type": "stream",
     "text": [
      "Average: tensor([[229.8942,  77.9738, 149.0146, 197.1680,   8.5398, 883.9785, 739.6048]]), Standard Deviation: tensor([[78.8772, 60.4614, 85.4181, 20.2082,  2.8075, 88.3914, 63.3421]])\n"
     ]
    }
   ],
   "source": [
    "# import dataset\n",
    "from sklearn.model_selection import train_test_split\n",
    "data = pd.read_csv(\"slump_test.csv\")\n",
    "X = torch.FloatTensor(data.iloc[:, 1:8].values)\n",
    "y = torch.FloatTensor(data.iloc[:, 8].values)\n",
    "\n",
    "means = X.mean(dim=0, keepdim=True)\n",
    "stds = X.std(dim=0, keepdim=True)\n",
    "X = (X - means) / stds\n",
    "\n",
    "X_train, X_test, y_train, y_test = train_test_split(X, y, train_size=0.76, random_state=1)\n",
    "print('Average: {}, Standard Deviation: {}'.format(means, stds))"
   ]
  },
  {
   "cell_type": "code",
   "execution_count": 190,
   "metadata": {},
   "outputs": [],
   "source": [
    "def test_loss(X_test):\n",
    "    model.eval()\n",
    "    output = model(X_test)\n",
    "    loss = sklearn.metrics.mean_squared_error(output.detach().numpy(), y_test.unsqueeze(1).detach().numpy())\n",
    "    return loss.item()\n",
    "\n",
    "def eval_model(X, y):\n",
    "    model.eval()\n",
    "    y_preds = model(X).detach().numpy()\n",
    "    return sklearn.metrics.r2_score(y, y_preds), np.sqrt(sklearn.metrics.mean_squared_error(y, y_preds))"
   ]
  },
  {
   "cell_type": "code",
   "execution_count": 182,
   "metadata": {},
   "outputs": [],
   "source": [
    "# create MLP from literature\n",
    "class SlumpNN(nn.Module):\n",
    "\n",
    "  def __init__(self):\n",
    "    super().__init__()\n",
    "\n",
    "    self.input_layer = nn.Linear(7, 7)     \n",
    "    self.hidden_layer = nn.Linear(7,7)\n",
    "    self.output_layer = nn.Linear(7,1) \n",
    "    self.activation = nn.Sigmoid()      \n",
    "\n",
    "  def forward(self, x):\n",
    "    x = self.input_layer(x)\n",
    "    x = self.activation(x)\n",
    "    x = self.hidden_layer(x)\n",
    "    x = self.activation(x)\n",
    "    x = self.output_layer(x)\n",
    "    return x"
   ]
  },
  {
   "cell_type": "code",
   "execution_count": 215,
   "metadata": {},
   "outputs": [
    {
     "name": "stdout",
     "output_type": "stream",
     "text": [
      "Train R2: 0.9202980898766959, Train RMSE: 47.51853942871094\n",
      "Test R2: 0.8928853072704017, Test RMSE: 42.67240524291992\n"
     ]
    },
    {
     "data": {
      "image/png": "[encoded data removed]",
      "text/plain": [
       "<Figure size 432x288 with 1 Axes>"
      ]
     },
     "metadata": {
      "needs_background": "light"
     },
     "output_type": "display_data"
    }
   ],
   "source": [
    "model = SlumpNN()\n",
    "criterion = nn.MSELoss()\n",
    "optimizer= torch.optim.SGD(model.parameters(), lr=0.001, momentum= 0.5)\n",
    "epochs = 2000\n",
    "loss_over_time = []\n",
    "test_loss_over_time = []\n",
    "for i in range(epochs):\n",
    "    model.train()\n",
    "    optimizer.zero_grad()\n",
    "    output = model(X_train)\n",
    "    target = y_train.unsqueeze(1)\n",
    "    loss = criterion(output, target)\n",
    "    loss_over_time.append(loss.item())\n",
    "\n",
    "    test_loss_over_time.append(test_loss(X_test))\n",
    "\n",
    "    loss.backward()\n",
    "    optimizer.step()\n",
    "\n",
    "\n",
    "plt.figure()\n",
    "plt.plot(loss_over_time)\n",
    "plt.plot(test_loss_over_time)\n",
    "\n",
    "test_r2, test_rmse = eval_model(X_test, y_test)\n",
    "train_r2, train_rmse = eval_model(X_train, y_train)\n",
    "print('Train R2: {}, Train RMSE: {}'.format(train_r2, train_rmse))\n",
    "print('Test R2: {}, Test RMSE: {}'.format(test_r2, test_rmse))"
   ]
  },
  {
   "cell_type": "code",
   "execution_count": 196,
   "metadata": {},
   "outputs": [
    {
     "name": "stdout",
     "output_type": "stream",
     "text": [
      "Train R2: 0.943605240286077, Train RMSE: 37.54515930175781\n",
      "Test R2: 0.960663121896047, Test RMSE: 33.12689277648926\n"
     ]
    }
   ],
   "source": [
    "# Netz mit 50 Zufallsinitialisierungen laufen lassen\n",
    "test_r2_list = []\n",
    "test_rmse_list = []\n",
    "train_r2_list = []\n",
    "train_rmse_list = []\n",
    "\n",
    "for i in range(50):\n",
    "    model = SlumpNN()\n",
    "    criterion = nn.MSELoss()\n",
    "    optimizer= torch.optim.SGD(model.parameters(), lr=0.001, momentum= 0.5)\n",
    "    epochs = 2000\n",
    "    loss_over_time = []\n",
    "    test_loss_over_time = []\n",
    "    for i in range(epochs):\n",
    "        model.train()\n",
    "        optimizer.zero_grad()\n",
    "        output = model(X_train)\n",
    "        target = y_train.unsqueeze(1)\n",
    "        loss = criterion(output, target)\n",
    "        loss_over_time.append(loss.item())\n",
    "\n",
    "        test_loss_over_time.append(test_loss(X_test))\n",
    "\n",
    "        loss.backward()\n",
    "        optimizer.step()\n",
    "\n",
    "    test_r2, test_rmse = eval_model(X_test, y_test)\n",
    "    train_r2, train_rmse = eval_model(X_train, y_train)\n",
    "    test_r2_list.append(test_r2)\n",
    "    test_rmse_list.append(test_rmse)\n",
    "    train_r2_list.append(train_r2)\n",
    "    train_rmse_list.append(train_rmse)\n",
    "    \n",
    "print('Train R2: {}, Train RMSE: {}'.format(sum(train_r2_list)/50, sum(train_rmse_list)/50))\n",
    "print('Test R2: {}, Test RMSE: {}'.format(sum(test_r2_list)/50, sum(test_rmse_list)/50))"
   ]
  },
  {
   "cell_type": "code",
   "execution_count": 209,
   "metadata": {},
   "outputs": [
    {
     "name": "stdout",
     "output_type": "stream",
     "text": [
      "Train R2 CV: [0.9791422342415936, 0.9785944133726013, 0.9789800515720245, 0.9226867674863539, 0.9219482530102148, 0.9716391800757502, 0.9664392639381212, 0.9833300951850991, 0.9174593840095828, 0.9660711162873761]\n",
      "Train R2: 0.9586290759178718, Train RMSE: 32.21920280456543\n",
      "Test R2 CV: [0.9440345485792531, 0.9982933178939212, 0.9939367635618664, 0.7563116178740761, 0.9670225297154862, 0.7769239550768493, 0.9971391959198549, 0.9860868397290279, 0.9801247463172712, 0.9627785063338243]\n",
      "Test R2: 0.9362652021001432, Test RMSE: 31.10507264137268\n"
     ]
    }
   ],
   "source": [
    "# test with cv k = 4\n",
    "test_r2_list = []\n",
    "test_rmse_list = []\n",
    "train_r2_list = []\n",
    "train_rmse_list = []\n",
    "K = 10\n",
    "skf = sklearn.model_selection.KFold(n_splits=K)\n",
    "skf.get_n_splits(X, y)\n",
    "for train_index, test_index in skf.split(X, y):\n",
    "    X_train, X_test = X[train_index], X[test_index]\n",
    "    y_train, y_test = y[train_index], y[test_index]\n",
    "    X_train = torch.FloatTensor(X_train)\n",
    "    X_test = torch.FloatTensor(X_test)\n",
    "    y_train = torch.FloatTensor(y_train)\n",
    "    y_test = torch.FloatTensor(y_test)\n",
    "\n",
    "    model = SlumpNN()\n",
    "    criterion = nn.MSELoss()\n",
    "    optimizer= torch.optim.SGD(model.parameters(), lr=0.001, momentum= 0.5)\n",
    "    epochs = 2000\n",
    "    loss_over_time = []\n",
    "    test_loss_over_time = []\n",
    "    for i in range(epochs):\n",
    "        model.train()\n",
    "        optimizer.zero_grad()\n",
    "        output = model(X_train)\n",
    "        target = y_train.unsqueeze(1)\n",
    "        loss = criterion(output, target)\n",
    "        loss_over_time.append(loss.item())\n",
    "\n",
    "        test_loss_over_time.append(test_loss(X_test))\n",
    "\n",
    "        loss.backward()\n",
    "        optimizer.step()\n",
    "\n",
    "    test_r2, test_rmse = eval_model(X_test, y_test)\n",
    "    train_r2, train_rmse = eval_model(X_train, y_train)\n",
    "    test_r2_list.append(test_r2)\n",
    "    test_rmse_list.append(test_rmse)\n",
    "    train_r2_list.append(train_r2)\n",
    "    train_rmse_list.append(train_rmse)\n",
    "\n",
    "print('Train R2 CV: {}'.format(train_r2_list))\n",
    "print('Train R2: {}, Train RMSE: {}'.format(sum(train_r2_list)/K, sum(train_rmse_list)/K))\n",
    "print('Test R2 CV: {}'.format(test_r2_list))\n",
    "print('Test R2: {}, Test RMSE: {}'.format(sum(test_r2_list)/K, sum(test_rmse_list)/K))\n",
    "\n",
    "    "
   ]
  },
  {
   "cell_type": "markdown",
   "metadata": {},
   "source": [
    "Informed Machine Learning: Custom Loss Function"
   ]
  },
  {
   "cell_type": "code",
   "execution_count": null,
   "metadata": {},
   "outputs": [],
   "source": []
  }
 ],
 "metadata": {
  "kernelspec": {
   "display_name": "Python 3.8.13 ('AutoML')",
   "language": "python",
   "name": "python3"
  },
  "language_info": {
   "codemirror_mode": {
    "name": "ipython",
    "version": 3
   },
   "file_extension": ".py",
   "mimetype": "text/x-python",
   "name": "python",
   "nbconvert_exporter": "python",
   "pygments_lexer": "ipython3",
   "version": "3.8.13"
  },
  "orig_nbformat": 4,
  "vscode": {
   "interpreter": {
    "hash": "8c987f447b3d8b7fbc1b90bcfc8f9402522a4a53d74324611693e3c189ce101c"
   }
  }
 },
 "nbformat": 4,
 "nbformat_minor": 2
}
